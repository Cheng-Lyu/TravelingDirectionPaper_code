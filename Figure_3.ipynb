{
 "cells": [
  {
   "cell_type": "code",
   "execution_count": 1,
   "metadata": {},
   "outputs": [
    {
     "name": "stdout",
     "output_type": "stream",
     "text": [
      "Populating the interactive namespace from numpy and matplotlib\n"
     ]
    }
   ],
   "source": [
    "% pylab inline"
   ]
  },
  {
   "cell_type": "code",
   "execution_count": 3,
   "metadata": {},
   "outputs": [],
   "source": [
    "import imaging_2021Paper as im\n",
    "import behaviour_2021Paper as bh\n",
    "import plotting_help_2021Paper as ph\n",
    "import traveldirection_2021Paper as td\n",
    "\n",
    "import matplotlib.gridspec as gridspec\n",
    "from scipy import stats, ndimage\n",
    "import copy\n",
    "\n",
    "import warnings\n",
    "warnings.filterwarnings('ignore')"
   ]
  },
  {
   "cell_type": "code",
   "execution_count": 4,
   "metadata": {
    "collapsed": true
   },
   "outputs": [
    {
     "name": "stdout",
     "output_type": "stream",
     "text": [
      "../../../60D05_LexA--LexAop_GC6m__VT066307_Gal4_UAS_RGECO1a/2020_03_05/2020_03_05-007/2020_03_05_0007.abf\n",
      "../../../60D05_LexA--LexAop_GC6m__VT066307_Gal4_UAS_RGECO1a/2020_03_05/2020_03_05-008/2020_03_05_0008.abf\n",
      "../../../60D05_LexA--LexAop_GC6m__VT066307_Gal4_UAS_RGECO1a/2020_03_05/2020_03_05-009/2020_03_05_0009.abf\n",
      "../../../60D05_LexA--LexAop_GC6m__VT066307_Gal4_UAS_RGECO1a/2020_03_05/2020_03_05-010/2020_03_05_0010.abf\n",
      "../../../60D05_LexA--LexAop_GC6m__VT066307_Gal4_UAS_RGECO1a/2020_03_05/2020_03_05-012/2020_03_05_0012.abf\n",
      "../../../60D05_LexA--LexAop_GC6m__VT066307_Gal4_UAS_RGECO1a/2020_03_05/2020_03_05-013/2020_03_05_0013.abf\n",
      "../../../60D05_LexA--LexAop_GC6m__VT066307_Gal4_UAS_RGECO1a/2020_03_05/2020_03_05-014/2020_03_05_0014.abf\n"
     ]
    }
   ],
   "source": [
    "reload(im)\n",
    "names = [('2020030507',), ('2020030508',), ('2020030509',), ('2020030510',), ('2020030512',), ('2020030513',), \n",
    "    ('2020030514',), ]\n",
    "recss_epg_pfnv = im.get_recs(names, 'PFN', '../../../60D05_LexA--LexAop_GC6m__VT066307_Gal4_UAS_RGECO1a/', \n",
    "                    bhtype=bh.Flight, celltype2='EIP', imtype=im.Bridge, prairie2019=True, angle_offset=-133.125)"
   ]
  },
  {
   "cell_type": "code",
   "execution_count": 5,
   "metadata": {
    "collapsed": true
   },
   "outputs": [
    {
     "name": "stdout",
     "output_type": "stream",
     "text": [
      "../../../60D05_LexA--LexAop_GC6m__47E04_Gal4_UAS_RGECO1a/2020_12_04/2020_12_04-001/2020_12_04_0001.abf\n",
      "../../../60D05_LexA--LexAop_GC6m__47E04_Gal4_UAS_RGECO1a/2020_12_04/2020_12_04-002/2020_12_04_0002.abf\n",
      "../../../60D05_LexA--LexAop_GC6m__47E04_Gal4_UAS_RGECO1a/2020_12_04/2020_12_04-003/2020_12_04_0003.abf\n",
      "../../../60D05_LexA--LexAop_GC6m__47E04_Gal4_UAS_RGECO1a/2020_12_04/2020_12_04-004/2020_12_04_0004.abf\n",
      "../../../60D05_LexA--LexAop_GC6m__47E04_Gal4_UAS_RGECO1a/2020_12_04/2020_12_04-005/2020_12_04_0005.abf\n",
      "../../../60D05_LexA--LexAop_GC6m__47E04_Gal4_UAS_RGECO1a/2020_12_04/2020_12_04-006/2020_12_04_0006.abf\n",
      "../../../60D05_LexA--LexAop_GC6m__47E04_Gal4_UAS_RGECO1a/2020_12_04/2020_12_04-008/2020_12_04_0008.abf\n",
      "../../../60D05_LexA--LexAop_GC6m__47E04_Gal4_UAS_RGECO1a/2020_12_04/2020_12_04-009/2020_12_04_0009.abf\n",
      "../../../60D05_LexA--LexAop_GC6m__47E04_Gal4_UAS_RGECO1a/2020_12_07/2020_12_07-002/2020_12_07_0002.abf\n",
      "../../../60D05_LexA--LexAop_GC6m__47E04_Gal4_UAS_RGECO1a/2020_12_07/2020_12_07-005/2020_12_07_0005.abf\n",
      "../../../60D05_LexA--LexAop_GC6m__47E04_Gal4_UAS_RGECO1a/2020_12_07/2020_12_07-006/2020_12_07_0006.abf\n"
     ]
    }
   ],
   "source": [
    "reload(im)\n",
    "names = [('2020120401', '2020120402', '2020120403'), ('2020120404', '2020120405', '2020120406'),\n",
    "    ('2020120408', '2020120409',), ('2020120702',), ('2020120705',), ('2020120706',),]\n",
    "recss_epg_pfnd = im.get_recs(names, 'PFN', '../../../60D05_LexA--LexAop_GC6m__47E04_Gal4_UAS_RGECO1a/', \n",
    "                    bhtype=bh.Flight, celltype2='EIP', imtype=im.Bridge, prairie2019=True, angle_offset=-133.125)"
   ]
  },
  {
   "cell_type": "code",
   "execution_count": 7,
   "metadata": {},
   "outputs": [
    {
     "data": {
      "image/png": "[encoded data removed]",
      "text/plain": [
       "<Figure size 86.4x43.2 with 1 Axes>"
      ]
     },
     "metadata": {},
     "output_type": "display_data"
    }
   ],
   "source": [
    "reload(im)\n",
    "im.plot_phase_subtracted_bolusshape_ave_bridge_flight_chisquare_20210706(recss_epg_pfnv, \n",
    "            ax=ph.large_ax([1.2,.6]), offset=180, channel=2,\n",
    "            normalization='an', color=ph.blue, norm_curve=False, lw_mean=.8, lw_fit=1, lw_indi=.4, ms=2.5, alpha_sem=0.3,\n",
    "            alpha_indi=0.4, print_mean=False, print_test=False)\n",
    "# ph.save('Fig3d-EPG', exts=['pdf'])"
   ]
  },
  {
   "cell_type": "code",
   "execution_count": 8,
   "metadata": {},
   "outputs": [
    {
     "data": {
      "image/png": "[encoded data removed]",
      "text/plain": [
       "<Figure size 86.4x43.2 with 1 Axes>"
      ]
     },
     "metadata": {},
     "output_type": "display_data"
    }
   ],
   "source": [
    "reload(im)\n",
    "im.plot_phase_subtracted_bolusshape_ave_bridge_flight_chisquare_20210706(recss_epg_pfnv, \n",
    "            ax=ph.large_ax([1.2,.6]), offset=180, channel=1,\n",
    "            normalization='an', color=ph.orange, norm_curve=False, lw_mean=.8, lw_fit=1, lw_indi=.4, ms=2.5, alpha_sem=0.3,\n",
    "            alpha_indi=0.4, print_mean=False, print_test=False)\n",
    "# ph.save('Fig3d-PFNv', exts=['pdf'])"
   ]
  },
  {
   "cell_type": "code",
   "execution_count": 9,
   "metadata": {},
   "outputs": [
    {
     "data": {
      "image/png": "[encoded data removed]",
      "text/plain": [
       "<Figure size 86.4x43.2 with 1 Axes>"
      ]
     },
     "metadata": {},
     "output_type": "display_data"
    }
   ],
   "source": [
    "reload(im)\n",
    "im.plot_phase_subtracted_bolusshape_ave_bridge_flight_chisquare_20210706(recss_epg_pfnd, ax=ph.large_ax([1.2,.6]), offset=180, channel=2,\n",
    "            normalization='an', color=ph.blue, norm_curve=False, lw_mean=.8, lw_fit=.8, lw_indi=.5, ms=2.5, alpha_sem=0.3,\n",
    "            alpha_indi=0.6, print_mean=False, print_test=False)\n",
    "# ph.save('Fig3e-EPG', exts=['pdf'])"
   ]
  },
  {
   "cell_type": "code",
   "execution_count": 10,
   "metadata": {},
   "outputs": [
    {
     "data": {
      "image/png": "[encoded data removed]",
      "text/plain": [
       "<Figure size 86.4x43.2 with 1 Axes>"
      ]
     },
     "metadata": {},
     "output_type": "display_data"
    }
   ],
   "source": [
    "reload(im)\n",
    "im.plot_phase_subtracted_bolusshape_ave_bridge_flight_chisquare_20210706(recss_epg_pfnd, ax=ph.large_ax([1.2,.6]), offset=180, channel=1,\n",
    "            normalization='an', color=ph.brown, norm_curve=False, lw_mean=.8, lw_fit=.8, lw_indi=.5, ms=2.5, alpha_sem=0.3,\n",
    "            alpha_indi=0.6, print_mean=False, print_test=False)\n",
    "# ph.save('Fig3e-PFNd', exts=['pdf'])"
   ]
  },
  {
   "cell_type": "code",
   "execution_count": 11,
   "metadata": {
    "collapsed": true
   },
   "outputs": [
    {
     "name": "stdout",
     "output_type": "stream",
     "text": [
      "../../../VT063307-GC7f/2020_09_25/2020_09_25-001/2020_09_25_0001.abf\n",
      "../../../VT063307-GC7f/2020_09_25/2020_09_25-002/2020_09_25_0002.abf\n",
      "../../../VT063307-GC7f/2020_09_25/2020_09_25-003/2020_09_25_0003.abf\n",
      "../../../VT063307-GC7f/2020_09_25/2020_09_25-004/2020_09_25_0004.abf\n",
      "../../../VT063307-GC7f/2020_09_25/2020_09_25-005/2020_09_25_0005.abf\n",
      "../../../VT063307-GC7f/2020_09_27/2020_09_27-001/2020_09_27_0001.abf\n",
      "../../../VT063307-GC7f/2020_09_27/2020_09_27-002/2020_09_27_0002.abf\n",
      "../../../VT063307-GC7f/2020_09_27/2020_09_27-003/2020_09_27_0003.abf\n",
      "../../../VT063307-GC7f/2020_09_27/2020_09_27-004/2020_09_27_0004.abf\n",
      "../../../VT063307-GC7f/2020_09_28/2020_09_28-001/2020_09_28_0001.abf\n"
     ]
    }
   ],
   "source": [
    "reload(im)\n",
    "names = [('2020092501',), ('2020092502',), ('2020092503', '2020092504'), ('2020092505',), \n",
    "         ('2020092701',), ('2020092702',), ('2020092703',), ('2020092704',), ('2020092801',),]\n",
    "recss_v63 = im.get_recs(names, 'PEN', parent_folder='../../../VT063307-GC7f/', imtype=im.Bridge, \n",
    "                           bhtype=bh.Flight, prairie2019=True, )"
   ]
  },
  {
   "cell_type": "code",
   "execution_count": 12,
   "metadata": {
    "collapsed": true
   },
   "outputs": [
    {
     "name": "stdout",
     "output_type": "stream",
     "text": [
      "../../../15E01_AD_47E04_DBD-GC7f/2020_10_26/2020_10_26-001/2020_10_26_0001.abf\n",
      "../../../15E01_AD_47E04_DBD-GC7f/2020_10_26/2020_10_26-002/2020_10_26_0002.abf\n",
      "../../../15E01_AD_47E04_DBD-GC7f/2020_10_26/2020_10_26-004/2020_10_26_0004.abf\n",
      "../../../15E01_AD_47E04_DBD-GC7f/2020_10_27/2020_10_27-001/2020_10_27_0001.abf\n",
      "../../../15E01_AD_47E04_DBD-GC7f/2020_10_27/2020_10_27-002/2020_10_27_0002.abf\n",
      "../../../15E01_AD_47E04_DBD-GC7f/2020_10_27/2020_10_27-003/2020_10_27_0003.abf\n",
      "../../../15E01_AD_47E04_DBD-GC7f/2020_10_27/2020_10_27-004/2020_10_27_0004.abf\n",
      "../../../15E01_AD_47E04_DBD-GC7f/2020_10_27/2020_10_27-005/2020_10_27_0005.abf\n",
      "../../../15E01_AD_47E04_DBD-GC7f/2020_10_27/2020_10_27-007/2020_10_27_0007.abf\n"
     ]
    }
   ],
   "source": [
    "reload(im)\n",
    "names = [('2020102601',), ('2020102602',), ('2020102604',), ('2020102701',), ('2020102702',), ('2020102703',),\n",
    "        ('2020102704',), ('2020102705',), ('2020102707',),]\n",
    "recss_15e = im.get_recs(names, 'PEN', parent_folder='../../../15E01_AD_47E04_DBD-GC7f/', imtype=im.Bridge, \n",
    "                           bhtype=bh.Flight, prairie2019=True, )"
   ]
  },
  {
   "cell_type": "code",
   "execution_count": 13,
   "metadata": {
    "collapsed": true
   },
   "outputs": [
    {
     "name": "stdout",
     "output_type": "stream",
     "text": [
      "../../../60D05-GC7f/2020_10_24/2020_10_24-001/2020_10_24_0001.abf\n",
      "../../../60D05-GC7f/2020_10_24/2020_10_24-002/2020_10_24_0002.abf\n",
      "../../../60D05-GC7f/2020_10_24/2020_10_24-003/2020_10_24_0003.abf\n",
      "../../../60D05-GC7f/2020_10_24/2020_10_24-004/2020_10_24_0004.abf\n",
      "../../../60D05-GC7f/2020_10_24/2020_10_24-005/2020_10_24_0005.abf\n",
      "../../../60D05-GC7f/2020_10_24/2020_10_24-006/2020_10_24_0006.abf\n",
      "../../../60D05-GC7f/2020_10_24/2020_10_24-007/2020_10_24_0007.abf\n",
      "../../../60D05-GC7f/2020_10_24/2020_10_24-008/2020_10_24_0008.abf\n",
      "../../../60D05-GC7f/2020_10_24/2020_10_24-009/2020_10_24_0009.abf\n"
     ]
    }
   ],
   "source": [
    "reload(im)\n",
    "names = [('2020102401',), ('2020102402',), ('2020102403',), ('2020102404',), ('2020102405',), ('2020102406',),\n",
    "        ('2020102407',), ('2020102408',), ('2020102409',),]\n",
    "recss_epg = im.get_recs(names, 'EIP', '../../../60D05-GC7f/', prairie2019=True, imtype=im.Bridge, bhtype=bh.Flight)"
   ]
  },
  {
   "cell_type": "code",
   "execution_count": 20,
   "metadata": {},
   "outputs": [],
   "source": [
    "stimids = np.array([4,3.75,3.5,3.25,4.5,4.25,4,]) + 0"
   ]
  },
  {
   "cell_type": "code",
   "execution_count": 14,
   "metadata": {},
   "outputs": [
    {
     "data": {
      "image/png": "[encoded data removed]",
      "text/plain": [
       "<Figure size 324x72 with 7 Axes>"
      ]
     },
     "metadata": {},
     "output_type": "display_data"
    }
   ],
   "source": [
    "reload(td)\n",
    "td.barplot_bolusshape_subsampled(recss_15e, fig_size=(4.5,1), stimids=stimids, stimid_N=4,\n",
    "                      plot_fit=True, location='pb', c=ph.brown, t_before_end=-2.5, t_end=0,\n",
    "                      t_win_stop=[-1,5], offset=180, ylim=[0,3], lw=.6,show_chisquare=False)\n",
    "# ph.save('Fig3j', exts=['pdf'])"
   ]
  },
  {
   "cell_type": "code",
   "execution_count": 15,
   "metadata": {},
   "outputs": [
    {
     "data": {
      "image/png": "[encoded data removed]",
      "text/plain": [
       "<Figure size 324x72 with 7 Axes>"
      ]
     },
     "metadata": {},
     "output_type": "display_data"
    }
   ],
   "source": [
    "reload(td)\n",
    "td.barplot_bolusshape_subsampled(recss_v63, fig_size=(4.5,1), stimids=stimids, stimid_N=4,\n",
    "                      plot_fit=True, location='pb', c=ph.orange, t_before_end=-2.5, t_end=0,\n",
    "                      t_win_stop=[-1,5], offset=180, ylim=[0,4],lw=.6,show_chisquare=False)\n",
    "# ph.save('Fig3m', exts=['pdf'])"
   ]
  },
  {
   "cell_type": "code",
   "execution_count": 18,
   "metadata": {},
   "outputs": [
    {
     "data": {
      "image/png": "[encoded data removed]",
      "text/plain": [
       "<Figure size 324x72 with 7 Axes>"
      ]
     },
     "metadata": {},
     "output_type": "display_data"
    }
   ],
   "source": [
    "reload(td)\n",
    "td.barplot_bolusshape_subsampled(recss_epg, fig_size=(4.5,1), stimids=stimids, stimid_N=4,\n",
    "                      location='pb', c=ph.dblue, t_before_end=-2.5, t_end=0, plot_fit=False,\n",
    "                      t_win_stop=[-1,5], offset=180, ylim=[0,4],lw=.6,show_chisquare=False)\n",
    "# ph.save('Fig3p', exts=['pdf'])"
   ]
  },
  {
   "cell_type": "code",
   "execution_count": 21,
   "metadata": {},
   "outputs": [
    {
     "data": {
      "image/png": "[encoded data removed]",
      "text/plain": [
       "<Figure size 64.8x86.4 with 1 Axes>"
      ]
     },
     "metadata": {},
     "output_type": "display_data"
    }
   ],
   "source": [
    "reload(td)\n",
    "td.plot_bolusshape_amplitude_subsampled_chisquare_20210709(recss_15e, fig_size=(0.9,1.2), stimids=stimids, \n",
    "                    least_square=False, stimid_N=4, location='pb', PB_left=True, \n",
    "                    loc_num=None, stim_method='dypos', amp_type='amp_fit', t_before_end=-2.5, t_end=0,\n",
    "                    t_win_stop=[-1,5], offset=90, c=ph.brown, ylim=[-.1,2], fs=5, \n",
    "                    lw=1, cfit=ph.grey7, alphafit=.4, show_test=False)\n",
    "# ph.save('Fig3k', exts=['pdf'])"
   ]
  },
  {
   "cell_type": "code",
   "execution_count": 22,
   "metadata": {},
   "outputs": [
    {
     "data": {
      "image/png": "[encoded data removed]",
      "text/plain": [
       "<Figure size 64.8x86.4 with 1 Axes>"
      ]
     },
     "metadata": {},
     "output_type": "display_data"
    }
   ],
   "source": [
    "reload(td)\n",
    "td.plot_bolusshape_amplitude_subsampled_chisquare_20210709(recss_15e, fig_size=(0.9,1.2), stimids=stimids, \n",
    "                    least_square=False, stimid_N=4, location='pb', PB_left=False, \n",
    "                    loc_num=None, stim_method='dypos', amp_type='amp_fit', t_before_end=-2.5, t_end=0,\n",
    "                    t_win_stop=[-1,5], offset=90, c=ph.brown, ylim=[-.1,2], fs=5, \n",
    "                    lw=1, cfit=ph.grey7, alphafit=.4, show_test=False)\n",
    "# ph.save('Fig3l', exts=['pdf'])"
   ]
  },
  {
   "cell_type": "code",
   "execution_count": 23,
   "metadata": {},
   "outputs": [
    {
     "data": {
      "image/png": "[encoded data removed]",
      "text/plain": [
       "<Figure size 64.8x86.4 with 1 Axes>"
      ]
     },
     "metadata": {},
     "output_type": "display_data"
    }
   ],
   "source": [
    "reload(td)\n",
    "td.plot_bolusshape_amplitude_subsampled_chisquare_20210709(recss_v63, fig_size=(0.9,1.2), stimids=stimids, \n",
    "                    least_square=False, stimid_N=4, location='pb', PB_left=True, \n",
    "                    loc_num=None, stim_method='dypos', amp_type='amp_fit', t_before_end=-2.5, t_end=0,\n",
    "                    t_win_stop=[-1,5], offset=90, c=ph.dorange, ylim=[-.1,3], fs=5, \n",
    "                    lw=1, cfit=ph.grey7, alphafit=.4, show_test=False)\n",
    "# ph.save('Fig3n', exts=['pdf'])"
   ]
  },
  {
   "cell_type": "code",
   "execution_count": 24,
   "metadata": {},
   "outputs": [
    {
     "data": {
      "image/png": "[encoded data removed]",
      "text/plain": [
       "<Figure size 64.8x86.4 with 1 Axes>"
      ]
     },
     "metadata": {},
     "output_type": "display_data"
    }
   ],
   "source": [
    "reload(td)\n",
    "td.plot_bolusshape_amplitude_subsampled_chisquare_20210709(recss_v63, fig_size=(0.9,1.2), stimids=stimids, \n",
    "                    least_square=False, stimid_N=4, location='pb', PB_left=False, \n",
    "                    loc_num=None, stim_method='dypos', amp_type='amp_fit', t_before_end=-2.5, t_end=0,\n",
    "                    t_win_stop=[-1,5], offset=90, c=ph.dorange, ylim=[-.1,3], fs=5, \n",
    "                    lw=1, cfit=ph.grey7, alphafit=.4, show_test=False)\n",
    "# ph.save('Fig3o', exts=['pdf'])"
   ]
  },
  {
   "cell_type": "code",
   "execution_count": 25,
   "metadata": {},
   "outputs": [
    {
     "data": {
      "image/png": "[encoded data removed]",
      "text/plain": [
       "<Figure size 64.8x86.4 with 1 Axes>"
      ]
     },
     "metadata": {},
     "output_type": "display_data"
    }
   ],
   "source": [
    "reload(td)\n",
    "stimids = np.array([4,3.75,3.5,3.25,4.5,4.25,4,]) + 0\n",
    "td.plot_bolusshape_amplitude_subsampled_chisquare_20210709(recss_epg, fig_size=(0.9,1.2), stimids=stimids, \n",
    "                    least_square=False, stimid_N=4, location='pb', PB_left=True, \n",
    "                    loc_num=None, stim_method='dypos', amp_type='amp_fit', t_before_end=-2.5, t_end=0,\n",
    "                    t_win_stop=[-1,5], offset=90, c=ph.dblue, ylim=[-.1,3], fs=5, \n",
    "                    lw=1, cfit=ph.grey7, alphafit=.4, show_test=False)\n",
    "# ph.save('Fig3q', exts=['pdf'])"
   ]
  },
  {
   "cell_type": "code",
   "execution_count": 26,
   "metadata": {},
   "outputs": [
    {
     "data": {
      "image/png": "[encoded data removed]",
      "text/plain": [
       "<Figure size 64.8x86.4 with 1 Axes>"
      ]
     },
     "metadata": {},
     "output_type": "display_data"
    }
   ],
   "source": [
    "reload(td)\n",
    "stimids = np.array([4,3.75,3.5,3.25,4.5,4.25,4,]) + 0\n",
    "td.plot_bolusshape_amplitude_subsampled_chisquare_20210709(recss_epg, fig_size=(0.9,1.2), stimids=stimids, \n",
    "                    least_square=False, stimid_N=4, location='pb', PB_left=False, \n",
    "                    loc_num=None, stim_method='dypos', amp_type='amp_fit', t_before_end=-2.5, t_end=0,\n",
    "                    t_win_stop=[-1,5], offset=90, c=ph.dblue, ylim=[-.1,3], fs=5, \n",
    "                    lw=1, cfit=ph.grey7, alphafit=.4, show_test=False)\n",
    "# ph.save('Fig3r', exts=['pdf'])"
   ]
  },
  {
   "cell_type": "code",
   "execution_count": null,
   "metadata": {},
   "outputs": [],
   "source": []
  }
 ],
 "metadata": {
  "kernelspec": {
   "display_name": "Python 2",
   "language": "python",
   "name": "python2"
  },
  "language_info": {
   "codemirror_mode": {
    "name": "ipython",
    "version": 2
   },
   "file_extension": ".py",
   "mimetype": "text/x-python",
   "name": "python",
   "nbconvert_exporter": "python",
   "pygments_lexer": "ipython2",
   "version": "2.7.17"
  }
 },
 "nbformat": 4,
 "nbformat_minor": 2
}
